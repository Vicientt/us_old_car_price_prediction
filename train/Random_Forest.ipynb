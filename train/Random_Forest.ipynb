{
 "cells": [
  {
   "cell_type": "code",
   "execution_count": 1,
   "id": "7b2b479b",
   "metadata": {},
   "outputs": [
    {
     "name": "stdout",
     "output_type": "stream",
     "text": [
      "(227986, 51)\n",
      "(56997, 51)\n"
     ]
    }
   ],
   "source": [
    "import numpy as np\n",
    "import pandas as pd\n",
    "\n",
    "# Test the data first\n",
    "X_train = pd.read_csv('../data_csv/X_train_final.csv')\n",
    "X_test = pd.read_csv('../data_csv/X_test_final.csv')\n",
    "y_train = pd.read_csv('../data_csv/y_train_final.csv')\n",
    "y_test = pd.read_csv('../data_csv/y_test_final.csv')\n",
    "\n",
    "# Check the size\n",
    "print(X_train.shape)\n",
    "print(X_test.shape)"
   ]
  },
  {
   "cell_type": "code",
   "execution_count": 2,
   "id": "199a54c2",
   "metadata": {},
   "outputs": [],
   "source": [
    "param_grid_rf = {\n",
    "    'n_estimators': [100, 150, 200],\n",
    "    'max_depth': [10, 15, 20], \n",
    "    'max_features': ['sqrt', 0.5],\n",
    "    'min_samples_leaf': [2, 4, 6]\n",
    "}"
   ]
  },
  {
   "cell_type": "code",
   "execution_count": 3,
   "id": "b363f112",
   "metadata": {},
   "outputs": [
    {
     "name": "stdout",
     "output_type": "stream",
     "text": [
      "Start training: Loading....\n",
      "Fitting 3 folds for each of 10 candidates, totalling 30 fits\n"
     ]
    },
    {
     "name": "stderr",
     "output_type": "stream",
     "text": [
      "c:\\Users\\Admin\\anaconda3\\Lib\\site-packages\\sklearn\\base.py:1473: DataConversionWarning: A column-vector y was passed when a 1d array was expected. Please change the shape of y to (n_samples,), for example using ravel().\n",
      "  return fit_method(estimator, *args, **kwargs)\n"
     ]
    },
    {
     "name": "stdout",
     "output_type": "stream",
     "text": [
      "Done!\n"
     ]
    }
   ],
   "source": [
    "from sklearn.model_selection import RandomizedSearchCV\n",
    "from sklearn.ensemble import RandomForestRegressor\n",
    "rf_base = RandomForestRegressor(random_state=42, n_jobs=-1)\n",
    "\n",
    "# 2. Khởi tạo công cụ tìm kiếm\n",
    "random_search_rf = RandomizedSearchCV(\n",
    "    estimator=rf_base,\n",
    "    param_distributions=param_grid_rf,\n",
    "    n_iter=10, \n",
    "    cv=3,     \n",
    "    scoring='r2',\n",
    "    n_jobs=-1,\n",
    "    random_state=42,\n",
    "    verbose=1 \n",
    ")\n",
    "\n",
    "print(\"Start training: Loading....\")\n",
    "random_search_rf.fit(X_train, y_train)\n",
    "print(\"Done!\")"
   ]
  },
  {
   "cell_type": "code",
   "execution_count": 4,
   "id": "1746e3fa",
   "metadata": {},
   "outputs": [
    {
     "name": "stdout",
     "output_type": "stream",
     "text": [
      "{'n_estimators': 150, 'min_samples_leaf': 4, 'max_features': 0.5, 'max_depth': 20}\n"
     ]
    }
   ],
   "source": [
    "# Best hyperparameters\n",
    "print(random_search_rf.best_params_)\n",
    "\n",
    "# Take the best model\n",
    "best_rf_model = random_search_rf.best_estimator_"
   ]
  },
  {
   "cell_type": "code",
   "execution_count": 5,
   "id": "dd6c2962",
   "metadata": {},
   "outputs": [
    {
     "name": "stdout",
     "output_type": "stream",
     "text": [
      "--- Result of Ridge Regression ---\n",
      "R-squared (R²): 0.8371\n",
      "MAE: $2,851.01\n",
      "RMSE: $5,880.05\n"
     ]
    }
   ],
   "source": [
    "# Evaluate the model\n",
    "from sklearn.metrics import mean_absolute_error, mean_squared_error, r2_score\n",
    "\n",
    "# Predict in X_test\n",
    "y_pred_log = best_rf_model.predict(X_test)\n",
    "\n",
    "# Convert to normal curve instead of log\n",
    "y_test_original = np.expm1(y_test)\n",
    "y_pred_original = np.expm1(y_pred_log)\n",
    "\n",
    "# Calculate\n",
    "r2 = r2_score(y_test_original, y_pred_original)\n",
    "mae = mean_absolute_error(y_test_original, y_pred_original)\n",
    "rmse = np.sqrt(mean_squared_error(y_test_original, y_pred_original))\n",
    "\n",
    "# Print out\n",
    "print(\"--- Result of Ridge Regression ---\")\n",
    "print(f\"R-squared (R²): {r2:.4f}\")\n",
    "print(f\"MAE: ${mae:,.2f}\")\n",
    "print(f\"RMSE: ${rmse:,.2f}\")"
   ]
  },
  {
   "cell_type": "markdown",
   "id": "253c9c02",
   "metadata": {},
   "source": [
    "### Importance of Feature"
   ]
  },
  {
   "cell_type": "code",
   "execution_count": 6,
   "id": "b5287e5a",
   "metadata": {},
   "outputs": [
    {
     "name": "stdout",
     "output_type": "stream",
     "text": [
      "                        feature  importance\n",
      "49                    te__model    0.321001\n",
      "0              num__year_to_now    0.175276\n",
      "1             log_num__odometer    0.129142\n",
      "50         te__state_of_listing    0.067712\n",
      "3                ord__cylinders    0.064920\n",
      "2                     ord__size    0.042667\n",
      "48             te__manufacturer    0.033585\n",
      "17      ohe__transmission_other    0.029014\n",
      "18       ohe__type_of_drive_4wd    0.019137\n",
      "19       ohe__type_of_drive_fwd    0.017376\n",
      "42             ohe__color_other    0.016016\n",
      "4              ohe__fuel_diesel    0.007450\n",
      "15  ohe__transmission_automatic    0.006987\n",
      "20     ohe__type_of_drive_other    0.006636\n",
      "30      ohe__generic_type_sedan    0.005626\n"
     ]
    }
   ],
   "source": [
    "feature_names = X_train.columns\n",
    "\n",
    "importances_rf = best_rf_model.feature_importances_\n",
    "\n",
    "# Create DataFrame\n",
    "rf_importance_df = pd.DataFrame({\n",
    "    'feature': feature_names,\n",
    "    'importance': importances_rf\n",
    "})\n",
    "\n",
    "# Sắp xếp theo độ quan trọng\n",
    "rf_importance_df = rf_importance_df.sort_values(by='importance', ascending=False)\n",
    "print(rf_importance_df.head(15))"
   ]
  },
  {
   "cell_type": "code",
   "execution_count": 7,
   "id": "75e9add6",
   "metadata": {},
   "outputs": [
    {
     "data": {
      "text/plain": [
       "['../models/best_rf_model.pkl']"
      ]
     },
     "execution_count": 7,
     "metadata": {},
     "output_type": "execute_result"
    }
   ],
   "source": [
    "import joblib\n",
    "import os\n",
    "\n",
    "os.makedirs('../models', exist_ok=True)\n",
    "joblib.dump(best_rf_model, '../models/best_rf_model.pkl')"
   ]
  }
 ],
 "metadata": {
  "kernelspec": {
   "display_name": "base",
   "language": "python",
   "name": "python3"
  },
  "language_info": {
   "codemirror_mode": {
    "name": "ipython",
    "version": 3
   },
   "file_extension": ".py",
   "mimetype": "text/x-python",
   "name": "python",
   "nbconvert_exporter": "python",
   "pygments_lexer": "ipython3",
   "version": "3.12.7"
  }
 },
 "nbformat": 4,
 "nbformat_minor": 5
}
