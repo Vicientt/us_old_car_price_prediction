{
 "cells": [
  {
   "cell_type": "code",
   "execution_count": 1,
   "id": "b2d8f2ca",
   "metadata": {},
   "outputs": [],
   "source": [
    "import joblib\n",
    "import pandas as pd\n",
    "import numpy as np\n",
    "from sklearn.ensemble import StackingRegressor\n",
    "from sklearn.linear_model import Ridge  # Use for super model\n",
    "from sklearn.metrics import r2_score, mean_absolute_error, mean_squared_error"
   ]
  },
  {
   "cell_type": "code",
   "execution_count": 2,
   "id": "e98cf0ed",
   "metadata": {},
   "outputs": [],
   "source": [
    "X_train = pd.read_csv('../data_csv/X_train_final.csv')\n",
    "y_train = pd.read_csv('../data_csv/y_train_final.csv')\n",
    "X_test = pd.read_csv('../data_csv/X_test_final.csv')\n",
    "y_test = pd.read_csv('../data_csv/y_test_final.csv')\n",
    "\n",
    "# Load model\n",
    "rf_model_loaded = joblib.load('../models/best_rf_model.pkl')\n",
    "xgb_model_loaded = joblib.load('../models/best_xgb_model.pkl')"
   ]
  },
  {
   "cell_type": "code",
   "execution_count": 3,
   "id": "c4a59730",
   "metadata": {},
   "outputs": [],
   "source": [
    "estimators = [\n",
    "    ('xgb', xgb_model_loaded),\n",
    "    ('rf', rf_model_loaded)\n",
    "]\n",
    "\n",
    "stacking_model = StackingRegressor(\n",
    "    estimators=estimators,\n",
    "    final_estimator=Ridge(alpha=0.1), # Meta-model\n",
    "    cv='prefit'  \n",
    ")"
   ]
  },
  {
   "cell_type": "code",
   "execution_count": 4,
   "id": "f1d570c8",
   "metadata": {},
   "outputs": [
    {
     "name": "stdout",
     "output_type": "stream",
     "text": [
      "Start training\n"
     ]
    },
    {
     "name": "stderr",
     "output_type": "stream",
     "text": [
      "d:\\VSCode\\External project\\car-price-prediction\\venv\\Lib\\site-packages\\sklearn\\ensemble\\_stacking.py:1041: DataConversionWarning: A column-vector y was passed when a 1d array was expected. Please change the shape of y to (n_samples, ), for example using ravel().\n",
      "  y = column_or_1d(y, warn=True)\n"
     ]
    },
    {
     "name": "stdout",
     "output_type": "stream",
     "text": [
      "Done!\n"
     ]
    }
   ],
   "source": [
    "print(\"Start training\")\n",
    "stacking_model.fit(X_train, y_train)\n",
    "print(\"Done!\")"
   ]
  },
  {
   "cell_type": "code",
   "execution_count": 5,
   "id": "7fbc581f",
   "metadata": {},
   "outputs": [
    {
     "name": "stdout",
     "output_type": "stream",
     "text": [
      "\n",
      "--- STACKING MODEL ---\n",
      "R-squared (R²): 0.8648\n",
      "MAE: $2,596.68\n",
      "RMSE: $5,356.90\n"
     ]
    }
   ],
   "source": [
    "y_pred_log_stack = stacking_model.predict(X_test)\n",
    "\n",
    "# Chuyển đổi ngược\n",
    "y_test_original = np.expm1(y_test)\n",
    "y_pred_original_stack = np.expm1(y_pred_log_stack)\n",
    "\n",
    "# Tính toán chỉ số\n",
    "r2_stack = r2_score(y_test_original, y_pred_original_stack)\n",
    "mae_stack = mean_absolute_error(y_test_original, y_pred_original_stack)\n",
    "rmse_stack = np.sqrt(mean_squared_error(y_test_original, y_pred_original_stack))\n",
    "\n",
    "print(f\"\\n--- STACKING MODEL ---\")\n",
    "print(f\"R-squared (R²): {r2_stack:.4f}\")\n",
    "print(f\"MAE: ${mae_stack:,.2f}\")\n",
    "print(f\"RMSE: ${rmse_stack:,.2f}\")"
   ]
  },
  {
   "cell_type": "code",
   "execution_count": 6,
   "id": "ddfce781",
   "metadata": {},
   "outputs": [
    {
     "data": {
      "text/plain": [
       "['../models/stacking_model.pkl']"
      ]
     },
     "execution_count": 6,
     "metadata": {},
     "output_type": "execute_result"
    }
   ],
   "source": [
    "import joblib\n",
    "import os\n",
    "\n",
    "os.makedirs('../models', exist_ok=True)\n",
    "joblib.dump(stacking_model, '../models/stacking_model.pkl')"
   ]
  }
 ],
 "metadata": {
  "kernelspec": {
   "display_name": "venv",
   "language": "python",
   "name": "python3"
  },
  "language_info": {
   "codemirror_mode": {
    "name": "ipython",
    "version": 3
   },
   "file_extension": ".py",
   "mimetype": "text/x-python",
   "name": "python",
   "nbconvert_exporter": "python",
   "pygments_lexer": "ipython3",
   "version": "3.13.5"
  }
 },
 "nbformat": 4,
 "nbformat_minor": 5
}
