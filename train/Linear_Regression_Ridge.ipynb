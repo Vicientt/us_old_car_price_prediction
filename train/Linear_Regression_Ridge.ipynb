{
 "cells": [
  {
   "cell_type": "markdown",
   "id": "bc90ae9b",
   "metadata": {},
   "source": [
    "### We're gonna use the Ridge Regression Model model as the baseline for our problem"
   ]
  },
  {
   "cell_type": "code",
   "execution_count": 2,
   "id": "e3601783",
   "metadata": {},
   "outputs": [
    {
     "name": "stdout",
     "output_type": "stream",
     "text": [
      "(227986, 51)\n",
      "(56997, 51)\n"
     ]
    }
   ],
   "source": [
    "import numpy as np\n",
    "import pandas as pd\n",
    "\n",
    "# Test the data first\n",
    "X_train = pd.read_csv('../data_csv/X_train_final.csv')\n",
    "X_test = pd.read_csv('../data_csv/X_test_final.csv')\n",
    "y_train = pd.read_csv('../data_csv/y_train_final.csv')\n",
    "y_test = pd.read_csv('../data_csv/y_test_final.csv')\n",
    "\n",
    "# Check the size\n",
    "print(X_train.shape)\n",
    "print(X_test.shape)"
   ]
  },
  {
   "cell_type": "code",
   "execution_count": 3,
   "id": "00b7d8fc",
   "metadata": {},
   "outputs": [
    {
     "name": "stdout",
     "output_type": "stream",
     "text": [
      "Start training: Loading....\n",
      "Done!\n"
     ]
    }
   ],
   "source": [
    "# Start to build the model\n",
    "from sklearn.linear_model import Ridge\n",
    "\n",
    "ridge_model = Ridge(alpha = 1.0) # Let the penalty a small number\n",
    "\n",
    "print(\"Start training: Loading....\")\n",
    "ridge_model.fit(X_train,y_train)\n",
    "print(\"Done!\")"
   ]
  },
  {
   "cell_type": "code",
   "execution_count": 4,
   "id": "0b5447d1",
   "metadata": {},
   "outputs": [
    {
     "name": "stdout",
     "output_type": "stream",
     "text": [
      "--- Result of Ridge Regression ---\n",
      "R-squared (R²): 0.4983\n",
      "MAE: $6,595.26\n",
      "RMSE: $10,318.08\n"
     ]
    }
   ],
   "source": [
    "# Evaluate the model\n",
    "from sklearn.metrics import mean_absolute_error, mean_squared_error, r2_score\n",
    "\n",
    "# Predict in X_test\n",
    "y_pred_log = ridge_model.predict(X_test)\n",
    "\n",
    "# Convert to normal curve instead of log\n",
    "y_test_original = np.expm1(y_test)\n",
    "y_pred_original = np.expm1(y_pred_log)\n",
    "\n",
    "# Calculate\n",
    "r2 = r2_score(y_test_original, y_pred_original)\n",
    "mae = mean_absolute_error(y_test_original, y_pred_original)\n",
    "rmse = np.sqrt(mean_squared_error(y_test_original, y_pred_original))\n",
    "\n",
    "# Print out\n",
    "print(\"--- Result of Ridge Regression ---\")\n",
    "print(f\"R-squared (R²): {r2:.4f}\")\n",
    "print(f\"MAE: ${mae:,.2f}\")\n",
    "print(f\"RMSE: ${rmse:,.2f}\")"
   ]
  },
  {
   "cell_type": "code",
   "execution_count": 5,
   "id": "fc64b7cd",
   "metadata": {},
   "outputs": [
    {
     "data": {
      "text/plain": [
       "['../models/ridge_model.pkl']"
      ]
     },
     "execution_count": 5,
     "metadata": {},
     "output_type": "execute_result"
    }
   ],
   "source": [
    "import joblib\n",
    "import os\n",
    "\n",
    "os.makedirs('../models', exist_ok=True)\n",
    "joblib.dump(ridge_model, '../models/ridge_model.pkl')"
   ]
  }
 ],
 "metadata": {
  "kernelspec": {
   "display_name": "venv",
   "language": "python",
   "name": "python3"
  },
  "language_info": {
   "codemirror_mode": {
    "name": "ipython",
    "version": 3
   },
   "file_extension": ".py",
   "mimetype": "text/x-python",
   "name": "python",
   "nbconvert_exporter": "python",
   "pygments_lexer": "ipython3",
   "version": "3.13.5"
  }
 },
 "nbformat": 4,
 "nbformat_minor": 5
}
