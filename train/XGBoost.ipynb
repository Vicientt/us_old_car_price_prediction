{
 "cells": [
  {
   "cell_type": "code",
   "execution_count": 16,
   "id": "268ed108",
   "metadata": {},
   "outputs": [
    {
     "name": "stdout",
     "output_type": "stream",
     "text": [
      "(227986, 51)\n",
      "(56997, 51)\n"
     ]
    }
   ],
   "source": [
    "import numpy as np\n",
    "import pandas as pd\n",
    "\n",
    "# Test the data first\n",
    "X_train = pd.read_csv('../data_csv/X_train_final.csv')\n",
    "X_test = pd.read_csv('../data_csv/X_test_final.csv')\n",
    "y_train = pd.read_csv('../data_csv/y_train_final.csv')\n",
    "y_test = pd.read_csv('../data_csv/y_test_final.csv')\n",
    "\n",
    "# Check the size\n",
    "print(X_train.shape)\n",
    "print(X_test.shape)"
   ]
  },
  {
   "cell_type": "markdown",
   "id": "f3716698",
   "metadata": {},
   "source": [
    "## Try Hyperparameter Tuning using RandomizedSearchCV"
   ]
  },
  {
   "cell_type": "code",
   "execution_count": 17,
   "id": "e163259f",
   "metadata": {},
   "outputs": [],
   "source": [
    "from sklearn.model_selection import RandomizedSearchCV\n",
    "\n",
    "param_grid = {\n",
    "    'n_estimators': [100, 200, 300, 500, 700],\n",
    "    'learning_rate': [0.01, 0.05, 0.1, 0.2],\n",
    "    'max_depth': [3, 5, 7, 10],\n",
    "    'subsample': [0.7, 0.8, 0.9, 1.0]\n",
    "}"
   ]
  },
  {
   "cell_type": "code",
   "execution_count": 18,
   "id": "3d28503e",
   "metadata": {},
   "outputs": [
    {
     "name": "stdout",
     "output_type": "stream",
     "text": [
      "Start trying\n",
      "Fitting 3 folds for each of 20 candidates, totalling 60 fits\n",
      "Done!\n"
     ]
    }
   ],
   "source": [
    "from xgboost import XGBRegressor\n",
    "\n",
    "xgb_base = XGBRegressor(random_state=42, n_jobs=-1)\n",
    "\n",
    "random_search = RandomizedSearchCV(\n",
    "    estimator=xgb_base,\n",
    "    param_distributions=param_grid,\n",
    "    n_iter=20, \n",
    "    cv=3,\n",
    "    scoring='neg_mean_absolute_error',\n",
    "    n_jobs=-1,\n",
    "    random_state=42,\n",
    "    verbose=1  \n",
    ")\n",
    "\n",
    "# Fit (Takes time)\n",
    "print(\"Start trying\")\n",
    "random_search.fit(X_train,y_train)\n",
    "print(\"Done!\")"
   ]
  },
  {
   "cell_type": "code",
   "execution_count": 19,
   "id": "b27d2091",
   "metadata": {},
   "outputs": [
    {
     "name": "stdout",
     "output_type": "stream",
     "text": [
      "{'subsample': 0.9, 'n_estimators': 300, 'max_depth': 10, 'learning_rate': 0.1}\n"
     ]
    }
   ],
   "source": [
    "# Print out the best parameters with best model\n",
    "print(random_search.best_params_)\n",
    "\n",
    "# Take the best model\n",
    "best_xgb_model = random_search.best_estimator_"
   ]
  },
  {
   "cell_type": "code",
   "execution_count": 20,
   "id": "11829a26",
   "metadata": {},
   "outputs": [
    {
     "name": "stdout",
     "output_type": "stream",
     "text": [
      "\n",
      "--- XGBoost Results ---\n",
      "R-squared (R²): 0.8547\n",
      "MAE: $2,890.03\n",
      "RMSE: $5,552.48\n"
     ]
    }
   ],
   "source": [
    "from sklearn.metrics import mean_absolute_error, mean_squared_error, r2_score\n",
    "y_pred_log_best_xgb = best_xgb_model.predict(X_test)\n",
    "\n",
    "y_test_original_best_xgb = np.expm1(y_test)\n",
    "y_pred_original_best_xgb = np.expm1(y_pred_log_best_xgb)\n",
    "\n",
    "# Tính toán chỉ số mới\n",
    "r2_best_xgb = r2_score(y_test_original_best_xgb, y_pred_original_best_xgb)\n",
    "mae_best_xgb = mean_absolute_error(y_test_original_best_xgb, y_pred_original_best_xgb)\n",
    "rmse_best_xgb = np.sqrt(mean_squared_error(y_test_original_best_xgb, y_pred_original_best_xgb))\n",
    "\n",
    "print(f\"\\n--- XGBoost Results ---\")\n",
    "print(f\"R-squared (R²): {r2_best_xgb:.4f}\")\n",
    "print(f\"MAE: ${mae_best_xgb:,.2f}\")\n",
    "print(f\"RMSE: ${rmse_best_xgb:,.2f}\")"
   ]
  },
  {
   "cell_type": "code",
   "execution_count": 21,
   "id": "a03c9662",
   "metadata": {},
   "outputs": [
    {
     "data": {
      "text/plain": [
       "['../models/best_xgb_model.pkl']"
      ]
     },
     "execution_count": 21,
     "metadata": {},
     "output_type": "execute_result"
    }
   ],
   "source": [
    "import joblib\n",
    "import os\n",
    "\n",
    "os.makedirs('../models', exist_ok=True)\n",
    "joblib.dump(best_xgb_model, '../models/best_xgb_model.pkl')"
   ]
  }
 ],
 "metadata": {
  "kernelspec": {
   "display_name": "venv",
   "language": "python",
   "name": "python3"
  },
  "language_info": {
   "codemirror_mode": {
    "name": "ipython",
    "version": 3
   },
   "file_extension": ".py",
   "mimetype": "text/x-python",
   "name": "python",
   "nbconvert_exporter": "python",
   "pygments_lexer": "ipython3",
   "version": "3.13.5"
  }
 },
 "nbformat": 4,
 "nbformat_minor": 5
}
